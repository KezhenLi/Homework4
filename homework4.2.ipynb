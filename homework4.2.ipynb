{
  "nbformat": 4,
  "nbformat_minor": 0,
  "metadata": {
    "colab": {
      "name": "homework4.2.ipynb",
      "provenance": [],
      "authorship_tag": "ABX9TyOk841ZMBuG2IkvwWytHbTz",
      "include_colab_link": true
    },
    "kernelspec": {
      "name": "python3",
      "display_name": "Python 3"
    }
  },
  "cells": [
    {
      "cell_type": "markdown",
      "metadata": {
        "id": "view-in-github",
        "colab_type": "text"
      },
      "source": [
        "<a href=\"https://colab.research.google.com/github/KezhenLi/Homework4/blob/main/homework4.2.ipynb\" target=\"_parent\"><img src=\"https://colab.research.google.com/assets/colab-badge.svg\" alt=\"Open In Colab\"/></a>"
      ]
    },
    {
      "cell_type": "code",
      "metadata": {
        "id": "IdEkJTSAxCzH"
      },
      "source": [
        "#(a) let wavelength equals to w, d(I)/d(w) = [-5*2 pi h c^2 w^(-6) + 5*2 pi h c^2 w^(-5) exp(h c/(w k T)) - 2 pi h c^2 w^(-5) h c/(w k T) w^(-2)]/(exp(h c/(w k T) - 1)^2\n",
        "# Let d(I)/d(w) = 0, eliminate (exp(h c/(w k T) - 1)^2 and 2 pi h c^2 w^(-5), we get 5*exp(- h c/(w k T) + h c/(w k T) - 5 = 0\n",
        "# Let x = h c/(w k T), 5 exp(-x) + x - 5 = 0, w = h c / (k x T) = b/T, where b = h c/(k x)."
      ],
      "execution_count": null,
      "outputs": []
    },
    {
      "cell_type": "code",
      "metadata": {
        "id": "KG5PeSB1046a"
      },
      "source": [
        "#(b)\n",
        "from numpy import exp"
      ],
      "execution_count": 19,
      "outputs": []
    },
    {
      "cell_type": "code",
      "metadata": {
        "colab": {
          "base_uri": "https://localhost:8080/"
        },
        "id": "lS5WD-XD0_v1",
        "outputId": "ae2fc00c-c2a7-408e-a760-3c9221496581"
      },
      "source": [
        "# Constants\n",
        "accuracy = 10 ** -6\n",
        "\n",
        "def root(f, x1, x2, accuracy):\n",
        "    def sign(x, y):\n",
        "        if x < 0 and y < 0 or x > 0 and y > 0:\n",
        "            return True\n",
        "        else:\n",
        "            return False\n",
        "    while abs(x1 - x2) > accuracy:\n",
        "        x = (x1 + x2) / 2\n",
        "        if sign(f(x1), f(x)):\n",
        "            x1 = x\n",
        "        elif sign(f(x), f(x2)):\n",
        "            x2 = x\n",
        "        elif abs(x) < accuracy:\n",
        "            return x\n",
        "    return (x1 + x2) / 2\n",
        "\n",
        "def f(x):\n",
        "    return 5 * exp(-x) + x - 5\n",
        "\n",
        "print(root(f, 1, 10, accuracy))\n"
      ],
      "execution_count": 20,
      "outputs": [
        {
          "output_type": "stream",
          "text": [
            "4.965114146471024\n"
          ],
          "name": "stdout"
        }
      ]
    },
    {
      "cell_type": "code",
      "metadata": {
        "id": "WsSzb_QP21gy"
      },
      "source": [
        "#(c) x = 4.965, w = 502*10^(-9), h = 6.626*10^(-34), k = 1.381*10^(−23), c = 3*10^8,\n",
        "# b = h c/(k x) = 2.899*10^(-3), T = b/w = 5.775*10^(3)= 5775K\n"
      ],
      "execution_count": null,
      "outputs": []
    }
  ]
}