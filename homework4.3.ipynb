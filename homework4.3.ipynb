{
  "nbformat": 4,
  "nbformat_minor": 0,
  "metadata": {
    "colab": {
      "name": "homework4.3.ipynb",
      "provenance": [],
      "authorship_tag": "ABX9TyM+YVa8gbsYiVlfU/h4q+ez",
      "include_colab_link": true
    },
    "kernelspec": {
      "name": "python3",
      "display_name": "Python 3"
    }
  },
  "cells": [
    {
      "cell_type": "markdown",
      "metadata": {
        "id": "view-in-github",
        "colab_type": "text"
      },
      "source": [
        "<a href=\"https://colab.research.google.com/github/KezhenLi/Homework4/blob/main/homework4.3.ipynb\" target=\"_parent\"><img src=\"https://colab.research.google.com/assets/colab-badge.svg\" alt=\"Open In Colab\"/></a>"
      ]
    },
    {
      "cell_type": "code",
      "metadata": {
        "id": "Z6pFpNeP4gTu"
      },
      "source": [
        "#(a)\n",
        "from numpy import exp,ones,copy,cos,tan,pi,linspace,sqrt\n",
        "from pylab import plot, show, xlabel, ylabel"
      ],
      "execution_count": 27,
      "outputs": []
    },
    {
      "cell_type": "code",
      "metadata": {
        "colab": {
          "base_uri": "https://localhost:8080/",
          "height": 279
        },
        "id": "6Dbp5ysU5PZJ",
        "outputId": "227fa9f1-51bc-47ea-ec08-bd60ae668633"
      },
      "source": [
        "def gaussxw(N):\n",
        "\n",
        "    # Initial approximation to roots of the Legendre polynomial\n",
        "    a = linspace(3,4*N-1,N)/(4*N+2)\n",
        "    x = cos(pi*a+1/(8*N*N*tan(a)))\n",
        "\n",
        "    # Find roots using Newton's method\n",
        "    epsilon = 1e-15\n",
        "    delta = 1.0\n",
        "    while delta>epsilon:\n",
        "        p0 = ones(N,float)\n",
        "        p1 = copy(x)\n",
        "        for k in range(1,N):\n",
        "            p0,p1 = p1,((2*k+1)*x*p1-k*p0)/(k+1)\n",
        "        dp = (N+1)*(p0-x*p1)/(1-x*x)\n",
        "        dx = p1/dp\n",
        "        x -= dx\n",
        "        delta = max(abs(dx))\n",
        "\n",
        "    # Calculate the weights\n",
        "    w = 2*(N+1)*(N+1)/(N*N*(1-x*x)*dp*dp)\n",
        "\n",
        "    return x,w\n",
        "\n",
        "def gaussxwab(N,a,b):\n",
        "    x,w = gaussxw(N)\n",
        "    return 0.5*(b-a)*x+0.5*(b+a),0.5*(b-a)*w\n",
        "\n",
        "# Constants\n",
        "hc = 1.23984193 * 10 ** 3\n",
        "w1 = 390  # wavelength \n",
        "w2 = 750  # wavelength \n",
        "k = 8.6173303 * 10 ** -5\n",
        "lower_constant = hc / (w2 * k)\n",
        "upper_constant = hc / (w1 * k)\n",
        "accuracy = 1  \n",
        "\n",
        "def eta(T):\n",
        "    def f(x):\n",
        "        return x ** 3 / (exp(x) - 1)\n",
        "    N = 100\n",
        "    x, w = gaussxwab(N, lower_constant / T, upper_constant / T)\n",
        "    integral = 0.0\n",
        "    for k in range(N):\n",
        "        integral += w[k] * f(x[k])\n",
        "    return 15 / pi ** 4 * integral\n",
        "\n",
        "# Make plot of eta from T = 300 K to 10000 K\n",
        "T = linspace(300, 10000, 100)\n",
        "plot(T, etas)\n",
        "xlabel('T (K)')\n",
        "ylabel(('eta'))\n",
        "show()\n",
        "\n",
        "# Considering the melting point of tungsten is 3695 K, you can't run a tungsten-filament light bulb at this temp\n"
      ],
      "execution_count": 36,
      "outputs": [
        {
          "output_type": "display_data",
          "data": {
            "image/png": "[encoded data removed]",
            "text/plain": [
              "<Figure size 432x288 with 1 Axes>"
            ]
          },
          "metadata": {
            "tags": [],
            "needs_background": "light"
          }
        }
      ]
    },
    {
      "cell_type": "code",
      "metadata": {
        "id": "NBQpCHMb9Eaf"
      },
      "source": [
        "#(b)\n",
        "from numpy import exp,ones,copy,cos,tan,pi,linspace,sqrt\n",
        "from pylab import plot, show, xlabel, ylabel"
      ],
      "execution_count": 24,
      "outputs": []
    },
    {
      "cell_type": "code",
      "metadata": {
        "colab": {
          "base_uri": "https://localhost:8080/"
        },
        "id": "pXzsf7B99NGn",
        "outputId": "1f204d8f-6d6f-4f76-9b02-f391b46e1d80"
      },
      "source": [
        "def gaussxw(N):\n",
        "\n",
        "    # Initial approximation to roots of the Legendre polynomial\n",
        "    a = linspace(3,4*N-1,N)/(4*N+2)\n",
        "    x = cos(pi*a+1/(8*N*N*tan(a)))\n",
        "\n",
        "    # Find roots using Newton's method\n",
        "    epsilon = 1e-15\n",
        "    delta = 1.0\n",
        "    while delta>epsilon:\n",
        "        p0 = ones(N,float)\n",
        "        p1 = copy(x)\n",
        "        for k in range(1,N):\n",
        "            p0,p1 = p1,((2*k+1)*x*p1-k*p0)/(k+1)\n",
        "        dp = (N+1)*(p0-x*p1)/(1-x*x)\n",
        "        dx = p1/dp\n",
        "        x -= dx\n",
        "        delta = max(abs(dx))\n",
        "\n",
        "    # Calculate the weights\n",
        "    w = 2*(N+1)*(N+1)/(N*N*(1-x*x)*dp*dp)\n",
        "\n",
        "    return x,w\n",
        "\n",
        "def gaussxwab(N,a,b):\n",
        "    x,w = gaussxw(N)\n",
        "    return 0.5*(b-a)*x+0.5*(b+a),0.5*(b-a)*w\n",
        "\n",
        "# Constants\n",
        "hc = 1.988 * 10 ** -26\n",
        "w1 = 390  # wavelength \n",
        "w2 = 750  # wavelength \n",
        "k = 1.381 * 10 ** -23  \n",
        "lower_constant = hc / (w2 * k)\n",
        "upper_constant = hc / (w1 * k)\n",
        "accuracy = 1  \n",
        "\n",
        "def eta(T):\n",
        "    def f(x):\n",
        "        return x ** 3 / (exp(x) - 1)\n",
        "    N = 100\n",
        "    x, w = gaussxwab(N, lower_constant / T, upper_constant / T)\n",
        "    integral = 0.0\n",
        "    for k in range(N):\n",
        "        integral += w[k] * f(x[k])\n",
        "    return 15 / pi ** 4 * integral\n",
        "\n",
        "# From (a) plot, max efficiency is in (6000,8000)\n",
        "# Initial values\n",
        "T1 = 6000\n",
        "T4 = 8000\n",
        "T2 = T4 - (T4 - T1) / 1.618 #golden ratio\n",
        "T3 = T4 + (T4 - T1) / 1.618\n",
        "eta1 = eta(T1)\n",
        "eta2 = eta(T2)\n",
        "eta3 = eta(T3)\n",
        "eta4 = eta(T4)\n",
        "\n",
        "while T4 - T1 > accuracy:\n",
        "    if eta2 < eta3 :\n",
        "        T4, eta4 = T3, eta3\n",
        "        T3, eta3 = T2, eta2\n",
        "        T2 = T4 - (T4 - T1) / 1.618\n",
        "        eta2 = eta(T2)\n",
        "    else:\n",
        "        T1, eta1 = T2, eta2\n",
        "        T2, eta2 = T3, eta3\n",
        "        T3 = T1 + (T4 - T1) / 1.618\n",
        "        eta3 = eta(T3)\n",
        "print(0.5 * (T1 + T4))\n"
      ],
      "execution_count": 39,
      "outputs": [
        {
          "output_type": "stream",
          "text": [
            "7235.951064815758\n"
          ],
          "name": "stdout"
        }
      ]
    },
    {
      "cell_type": "code",
      "metadata": {
        "id": "F_JNQMhkAYM-"
      },
      "source": [
        "#(c) The operating temperature of a tungsten filament in an incandescent light bulb is 2450 K, and its emissivity is 0.350.\n",
        "# it's not practial to run a tungsten filament light bulb at 7236K"
      ],
      "execution_count": 40,
      "outputs": []
    }
  ]
}