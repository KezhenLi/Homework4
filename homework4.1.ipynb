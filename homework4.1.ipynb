{
  "nbformat": 4,
  "nbformat_minor": 0,
  "metadata": {
    "colab": {
      "name": "homework4.1.ipynb",
      "provenance": [],
      "collapsed_sections": [],
      "authorship_tag": "ABX9TyOBTXgREybQ1dV4eHxao4g4",
      "include_colab_link": true
    },
    "kernelspec": {
      "name": "python3",
      "display_name": "Python 3"
    }
  },
  "cells": [
    {
      "cell_type": "markdown",
      "metadata": {
        "id": "view-in-github",
        "colab_type": "text"
      },
      "source": [
        "<a href=\"https://colab.research.google.com/github/KezhenLi/Homework4/blob/main/homework4.1.ipynb\" target=\"_parent\"><img src=\"https://colab.research.google.com/assets/colab-badge.svg\" alt=\"Open In Colab\"/></a>"
      ]
    },
    {
      "cell_type": "code",
      "metadata": {
        "id": "C7ri68VtqhTR"
      },
      "source": [
        "#(a) At junction V1, from Ohm's law and Kirchhoff's current law, (V+ - V1)/R = (V1-v3)/R + (V1-V3)/R, then 3V1 - V2 - V3 = V+:\n",
        "# Do the same calculation for junction V2, V3,.....,VN, we can get those equations. Express them in vector form Av=w,\n",
        "# A = ((3 -1 -1 0 ... 0) (-1 4 -1 -1 ... 0)... (0 ... -1 -1 4 -1) (0 ... 0 -1 -1 3), w = (V+ V+ 0 ... 0)"
      ],
      "execution_count": null,
      "outputs": []
    },
    {
      "cell_type": "code",
      "metadata": {
        "id": "A1NzJ3LJsHaf"
      },
      "source": [
        "#(b)(c)\n",
        "from numpy import copy, empty, zeros\n",
        "from pylab import plot, show"
      ],
      "execution_count": 20,
      "outputs": []
    },
    {
      "cell_type": "code",
      "metadata": {
        "colab": {
          "base_uri": "https://localhost:8080/",
          "height": 265
        },
        "id": "n62jd4C9sdr_",
        "outputId": "972a270d-04d1-4c55-b3a6-aea56945f61e"
      },
      "source": [
        "def banded(Aa,va,up,down):\n",
        "\n",
        "    # Copy the inputs and determine the size of the system\n",
        "    A = copy(Aa)\n",
        "    v = copy(va)\n",
        "    N = len(v)\n",
        "\n",
        "    # Gaussian elimination\n",
        "    for m in range(N):\n",
        "\n",
        "        # Normalization factor\n",
        "        div = A[up,m]\n",
        "\n",
        "        # Update the vector first\n",
        "        v[m] /= div\n",
        "        for k in range(1,down+1):\n",
        "            if m+k<N:\n",
        "                v[m+k] -= A[up+k,m]*v[m]\n",
        "\n",
        "        # Now normalize the pivot row of A and subtract from lower ones\n",
        "        for i in range(up):\n",
        "            j = m + up - i\n",
        "            if j<N:\n",
        "                A[i,j] /= div\n",
        "                for k in range(1,down+1):\n",
        "                    A[i+k,j] -= A[up+k,m]*A[i,j]\n",
        "\n",
        "    # Backsubstitution\n",
        "    for m in range(N-2,-1,-1):\n",
        "        for i in range(up):\n",
        "            j = m + up - i\n",
        "            if j<N:\n",
        "                v[m] -= A[i,j]*v[j]\n",
        "\n",
        "    return v\n",
        "\n",
        "\n",
        "# Constants\n",
        "N = 10000\n",
        "V = 5 \n",
        "\n",
        "# Set up the initial calues of the arrays\n",
        "A = empty([5, N], float)\n",
        "A[2, 0] = A[2, N-1] = 3\n",
        "for i in range(2, N):\n",
        "    A[0, i] = -1\n",
        "for i in range(1, N):\n",
        "    A[1, i] = -1\n",
        "for i in range(1, N-1):\n",
        "    A[2, i] = 4\n",
        "for i in range(N-1):\n",
        "    A[3, i] = -1\n",
        "for i in range(N-2):\n",
        "    A[4, i] = -1\n",
        "w = zeros(N)\n",
        "w[0] = b[1] = V\n",
        "\n",
        "# solve the equations\n",
        "x = banded(A, w, 2, 2)\n",
        "\n",
        "# Make a plot\n",
        "plot(x, 'ko')\n",
        "show()\n",
        " "
      ],
      "execution_count": 21,
      "outputs": [
        {
          "output_type": "display_data",
          "data": {
            "image/png": "[encoded data removed]",
            "text/plain": [
              "<Figure size 432x288 with 1 Axes>"
            ]
          },
          "metadata": {
            "tags": [],
            "needs_background": "light"
          }
        }
      ]
    }
  ]
}